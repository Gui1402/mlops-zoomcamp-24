{
 "cells": [
  {
   "cell_type": "code",
   "execution_count": 20,
   "id": "0d1f61c0",
   "metadata": {},
   "outputs": [
    {
     "name": "stdout",
     "output_type": "stream",
     "text": [
      "Requirement already satisfied: pyarrow in /home/codespace/anaconda3/lib/python3.9/site-packages (16.1.0)\n",
      "Requirement already satisfied: dask[complete] in /home/codespace/anaconda3/lib/python3.9/site-packages (2022.2.1)\n",
      "Requirement already satisfied: dask-ml in /home/codespace/anaconda3/lib/python3.9/site-packages (2024.4.4)\n",
      "Requirement already satisfied: numpy>=1.16.6 in /home/codespace/anaconda3/lib/python3.9/site-packages (from pyarrow) (1.21.5)\n",
      "Requirement already satisfied: fsspec>=0.6.0 in /home/codespace/anaconda3/lib/python3.9/site-packages (from dask[complete]) (2022.2.0)\n",
      "Requirement already satisfied: pyyaml>=5.3.1 in /home/codespace/anaconda3/lib/python3.9/site-packages (from dask[complete]) (6.0)\n",
      "Requirement already satisfied: partd>=0.3.10 in /home/codespace/anaconda3/lib/python3.9/site-packages (from dask[complete]) (1.2.0)\n",
      "Requirement already satisfied: toolz>=0.8.2 in /home/codespace/anaconda3/lib/python3.9/site-packages (from dask[complete]) (0.11.2)\n",
      "Requirement already satisfied: cloudpickle>=1.1.1 in /home/codespace/anaconda3/lib/python3.9/site-packages (from dask[complete]) (2.0.0)\n",
      "Requirement already satisfied: packaging>=20.0 in /home/codespace/anaconda3/lib/python3.9/site-packages (from dask[complete]) (21.3)\n",
      "Requirement already satisfied: pandas>=1.0 in /home/codespace/anaconda3/lib/python3.9/site-packages (from dask[complete]) (1.4.2)\n",
      "Requirement already satisfied: bokeh>=2.1.1 in /home/codespace/anaconda3/lib/python3.9/site-packages (from dask[complete]) (2.4.2)\n",
      "Requirement already satisfied: distributed==2022.02.1 in /home/codespace/anaconda3/lib/python3.9/site-packages (from dask[complete]) (2022.2.1)\n",
      "Requirement already satisfied: jinja2 in /home/codespace/anaconda3/lib/python3.9/site-packages (from dask[complete]) (2.11.3)\n",
      "Requirement already satisfied: psutil>=5.0 in /home/codespace/anaconda3/lib/python3.9/site-packages (from distributed==2022.02.1->dask[complete]) (5.8.0)\n",
      "Requirement already satisfied: sortedcontainers!=2.0.0,!=2.0.1 in /home/codespace/anaconda3/lib/python3.9/site-packages (from distributed==2022.02.1->dask[complete]) (2.4.0)\n",
      "Requirement already satisfied: msgpack>=0.6.0 in /home/codespace/anaconda3/lib/python3.9/site-packages (from distributed==2022.02.1->dask[complete]) (1.0.2)\n",
      "Requirement already satisfied: zict>=0.1.3 in /home/codespace/anaconda3/lib/python3.9/site-packages (from distributed==2022.02.1->dask[complete]) (2.0.0)\n",
      "Requirement already satisfied: setuptools in /home/codespace/anaconda3/lib/python3.9/site-packages (from distributed==2022.02.1->dask[complete]) (61.2.0)\n",
      "Requirement already satisfied: tblib>=1.6.0 in /home/codespace/anaconda3/lib/python3.9/site-packages (from distributed==2022.02.1->dask[complete]) (1.7.0)\n",
      "Requirement already satisfied: click>=6.6 in /home/codespace/anaconda3/lib/python3.9/site-packages (from distributed==2022.02.1->dask[complete]) (8.0.4)\n",
      "Requirement already satisfied: tornado>=6.0.3 in /home/codespace/anaconda3/lib/python3.9/site-packages (from distributed==2022.02.1->dask[complete]) (6.1)\n",
      "Requirement already satisfied: dask-glm>=0.2.0 in /home/codespace/anaconda3/lib/python3.9/site-packages (from dask-ml) (0.3.2)\n",
      "Requirement already satisfied: scikit-learn>=1.2.0 in /home/codespace/anaconda3/lib/python3.9/site-packages (from dask-ml) (1.4.2)\n",
      "Requirement already satisfied: scipy in /home/codespace/anaconda3/lib/python3.9/site-packages (from dask-ml) (1.7.3)\n",
      "Requirement already satisfied: numba>=0.51.0 in /home/codespace/anaconda3/lib/python3.9/site-packages (from dask-ml) (0.55.1)\n",
      "Requirement already satisfied: multipledispatch>=0.4.9 in /home/codespace/anaconda3/lib/python3.9/site-packages (from dask-ml) (0.6.0)\n",
      "Requirement already satisfied: pillow>=7.1.0 in /home/codespace/anaconda3/lib/python3.9/site-packages (from bokeh>=2.1.1->dask[complete]) (9.0.1)\n",
      "Requirement already satisfied: typing-extensions>=3.10.0 in /home/codespace/anaconda3/lib/python3.9/site-packages (from bokeh>=2.1.1->dask[complete]) (4.1.1)\n",
      "Requirement already satisfied: sparse>=0.7.0 in /home/codespace/anaconda3/lib/python3.9/site-packages (from dask-glm>=0.2.0->dask-ml) (0.15.2)\n",
      "Requirement already satisfied: MarkupSafe>=0.23 in /home/codespace/anaconda3/lib/python3.9/site-packages (from jinja2->dask[complete]) (2.0.1)\n",
      "Requirement already satisfied: six in /home/codespace/anaconda3/lib/python3.9/site-packages (from multipledispatch>=0.4.9->dask-ml) (1.16.0)\n",
      "Requirement already satisfied: llvmlite<0.39,>=0.38.0rc1 in /home/codespace/anaconda3/lib/python3.9/site-packages (from numba>=0.51.0->dask-ml) (0.38.0)\n",
      "Requirement already satisfied: pyparsing!=3.0.5,>=2.0.2 in /home/codespace/anaconda3/lib/python3.9/site-packages (from packaging>=20.0->dask[complete]) (3.0.4)\n",
      "Requirement already satisfied: python-dateutil>=2.8.1 in /home/codespace/anaconda3/lib/python3.9/site-packages (from pandas>=1.0->dask[complete]) (2.8.2)\n",
      "Requirement already satisfied: pytz>=2020.1 in /home/codespace/anaconda3/lib/python3.9/site-packages (from pandas>=1.0->dask[complete]) (2021.3)\n",
      "Requirement already satisfied: locket in /home/codespace/anaconda3/lib/python3.9/site-packages (from partd>=0.3.10->dask[complete]) (0.2.1)\n",
      "Requirement already satisfied: threadpoolctl>=2.0.0 in /home/codespace/anaconda3/lib/python3.9/site-packages (from scikit-learn>=1.2.0->dask-ml) (2.2.0)\n",
      "Requirement already satisfied: joblib>=1.2.0 in /home/codespace/anaconda3/lib/python3.9/site-packages (from scikit-learn>=1.2.0->dask-ml) (1.4.2)\n",
      "Requirement already satisfied: heapdict in /home/codespace/anaconda3/lib/python3.9/site-packages (from zict>=0.1.3->distributed==2022.02.1->dask[complete]) (1.0.1)\n",
      "Note: you may need to restart the kernel to use updated packages.\n"
     ]
    }
   ],
   "source": [
    "%pip install pyarrow dask[complete] dask-ml"
   ]
  },
  {
   "cell_type": "code",
   "execution_count": 21,
   "id": "139596c7",
   "metadata": {},
   "outputs": [
    {
     "name": "stdout",
     "output_type": "stream",
     "text": [
      "Requirement already satisfied: scikit-learn in /home/codespace/anaconda3/lib/python3.9/site-packages (1.4.2)\n",
      "Requirement already satisfied: numpy>=1.19.5 in /home/codespace/anaconda3/lib/python3.9/site-packages (from scikit-learn) (1.21.5)\n",
      "Requirement already satisfied: threadpoolctl>=2.0.0 in /home/codespace/anaconda3/lib/python3.9/site-packages (from scikit-learn) (2.2.0)\n",
      "Requirement already satisfied: joblib>=1.2.0 in /home/codespace/anaconda3/lib/python3.9/site-packages (from scikit-learn) (1.4.2)\n",
      "Requirement already satisfied: scipy>=1.6.0 in /home/codespace/anaconda3/lib/python3.9/site-packages (from scikit-learn) (1.7.3)\n",
      "Note: you may need to restart the kernel to use updated packages.\n"
     ]
    }
   ],
   "source": [
    "%pip install -U scikit-learn"
   ]
  },
  {
   "cell_type": "code",
   "execution_count": 3,
   "id": "f43e06e3",
   "metadata": {},
   "outputs": [],
   "source": [
    "import pandas as pd"
   ]
  },
  {
   "cell_type": "code",
   "execution_count": 1,
   "id": "4ac35980",
   "metadata": {},
   "outputs": [],
   "source": [
    "links = [\n",
    "    \"https://d37ci6vzurychx.cloudfront.net/trip-data/yellow_tripdata_2023-01.parquet\", \n",
    "    \"https://d37ci6vzurychx.cloudfront.net/trip-data/yellow_tripdata_2023-02.parquet\"]"
   ]
  },
  {
   "cell_type": "code",
   "execution_count": 4,
   "id": "2847b70b",
   "metadata": {},
   "outputs": [],
   "source": [
    "df_list = [\n",
    "    pd.read_parquet(i) for i in links\n",
    "]"
   ]
  },
  {
   "cell_type": "code",
   "execution_count": 23,
   "id": "49942b9f",
   "metadata": {},
   "outputs": [],
   "source": [
    "df = pd.concat(df_list, axis=0).reset_index(drop=True)"
   ]
  },
  {
   "cell_type": "markdown",
   "id": "3dffc648",
   "metadata": {},
   "source": [
    "## Question 1\n",
    "\n",
    "We'll use the same NYC taxi dataset, but instead of \"Green Taxi Trip Records\", we'll use \"Yellow Taxi Trip Records\".\n",
    "\n",
    "Download the data for January and February 2023.\n",
    "\n",
    "Read the data for January. How many columns are there?"
   ]
  },
  {
   "cell_type": "code",
   "execution_count": 24,
   "id": "de2acd04",
   "metadata": {},
   "outputs": [
    {
     "data": {
      "text/plain": [
       "Index(['VendorID', 'tpep_pickup_datetime', 'tpep_dropoff_datetime',\n",
       "       'passenger_count', 'trip_distance', 'RatecodeID', 'store_and_fwd_flag',\n",
       "       'PULocationID', 'DOLocationID', 'payment_type', 'fare_amount', 'extra',\n",
       "       'mta_tax', 'tip_amount', 'tolls_amount', 'improvement_surcharge',\n",
       "       'total_amount', 'congestion_surcharge', 'airport_fee'],\n",
       "      dtype='object')"
      ]
     },
     "execution_count": 24,
     "metadata": {},
     "output_type": "execute_result"
    }
   ],
   "source": [
    "df_list[0].columns"
   ]
  },
  {
   "cell_type": "code",
   "execution_count": 25,
   "id": "355ad592",
   "metadata": {},
   "outputs": [
    {
     "data": {
      "text/plain": [
       "19"
      ]
     },
     "execution_count": 25,
     "metadata": {},
     "output_type": "execute_result"
    }
   ],
   "source": [
    "len(df_list[0].columns)"
   ]
  },
  {
   "cell_type": "code",
   "execution_count": 26,
   "id": "3b0c60a9",
   "metadata": {},
   "outputs": [
    {
     "data": {
      "text/plain": [
       "19"
      ]
     },
     "execution_count": 26,
     "metadata": {},
     "output_type": "execute_result"
    }
   ],
   "source": [
    "len(df_list[1].columns)"
   ]
  },
  {
   "cell_type": "markdown",
   "id": "54044477",
   "metadata": {},
   "source": [
    "## Question 2\n",
    "\n",
    "Now let's compute the duration variable. It should contain the duration of a ride in minutes.\n",
    "\n",
    "What's the standard deviation of the trips duration in January?"
   ]
  },
  {
   "cell_type": "code",
   "execution_count": 35,
   "id": "9be0cf75",
   "metadata": {},
   "outputs": [],
   "source": [
    "sec_ride = (df_list[0][\"tpep_dropoff_datetime\"] - df_list[0][\"tpep_pickup_datetime\"]).dt.total_seconds()"
   ]
  },
  {
   "cell_type": "code",
   "execution_count": 37,
   "id": "537ade05",
   "metadata": {},
   "outputs": [
    {
     "data": {
      "text/plain": [
       "42.59435124195673"
      ]
     },
     "execution_count": 37,
     "metadata": {},
     "output_type": "execute_result"
    }
   ],
   "source": [
    "sec_ride.std()/60"
   ]
  },
  {
   "cell_type": "markdown",
   "id": "7cf22cce",
   "metadata": {},
   "source": [
    "## Question 3\n",
    "Next, we need to check the distribution of the duration variable. There are some outliers. Let's remove them and keep only the records where the duration was between 1 and 60 minutes (inclusive).\n",
    "\n",
    "What fraction of the records left after you dropped the outliers?"
   ]
  },
  {
   "cell_type": "code",
   "execution_count": 39,
   "id": "1d3dcaa4",
   "metadata": {},
   "outputs": [],
   "source": [
    "sec_ride_all = (df[\"tpep_dropoff_datetime\"] - df[\"tpep_pickup_datetime\"]).dt.total_seconds()"
   ]
  },
  {
   "cell_type": "code",
   "execution_count": 49,
   "id": "c817861a",
   "metadata": {},
   "outputs": [],
   "source": [
    "in_lier_df = df_list[0][(sec_ride >= 60) & (sec_ride <= 3600)]"
   ]
  },
  {
   "cell_type": "code",
   "execution_count": 50,
   "id": "667af121",
   "metadata": {},
   "outputs": [
    {
     "data": {
      "text/plain": [
       "0.9812202822125979"
      ]
     },
     "execution_count": 50,
     "metadata": {},
     "output_type": "execute_result"
    }
   ],
   "source": [
    "len(in_lier_df)/len(df_list[0])"
   ]
  },
  {
   "cell_type": "markdown",
   "id": "33b13abc",
   "metadata": {},
   "source": [
    "## Question 4\n",
    "\n",
    "Let's apply one-hot encoding to the pickup and dropoff location IDs. We'll use only these two features for our model.\n",
    "\n",
    "Turn the dataframe into a list of dictionaries (remember to re-cast the ids to strings - otherwise it will label encode them)\n",
    "Fit a dictionary vectorizer\n",
    "Get a feature matrix from it\n",
    "What's the dimensionality of this matrix (number of columns)?"
   ]
  },
  {
   "cell_type": "code",
   "execution_count": 51,
   "id": "6e6b9cba",
   "metadata": {},
   "outputs": [
    {
     "data": {
      "text/html": [
       "<div>\n",
       "<style scoped>\n",
       "    .dataframe tbody tr th:only-of-type {\n",
       "        vertical-align: middle;\n",
       "    }\n",
       "\n",
       "    .dataframe tbody tr th {\n",
       "        vertical-align: top;\n",
       "    }\n",
       "\n",
       "    .dataframe thead th {\n",
       "        text-align: right;\n",
       "    }\n",
       "</style>\n",
       "<table border=\"1\" class=\"dataframe\">\n",
       "  <thead>\n",
       "    <tr style=\"text-align: right;\">\n",
       "      <th></th>\n",
       "      <th>VendorID</th>\n",
       "      <th>tpep_pickup_datetime</th>\n",
       "      <th>tpep_dropoff_datetime</th>\n",
       "      <th>passenger_count</th>\n",
       "      <th>trip_distance</th>\n",
       "      <th>RatecodeID</th>\n",
       "      <th>store_and_fwd_flag</th>\n",
       "      <th>PULocationID</th>\n",
       "      <th>DOLocationID</th>\n",
       "      <th>payment_type</th>\n",
       "      <th>fare_amount</th>\n",
       "      <th>extra</th>\n",
       "      <th>mta_tax</th>\n",
       "      <th>tip_amount</th>\n",
       "      <th>tolls_amount</th>\n",
       "      <th>improvement_surcharge</th>\n",
       "      <th>total_amount</th>\n",
       "      <th>congestion_surcharge</th>\n",
       "      <th>airport_fee</th>\n",
       "    </tr>\n",
       "  </thead>\n",
       "  <tbody>\n",
       "    <tr>\n",
       "      <th>0</th>\n",
       "      <td>2</td>\n",
       "      <td>2023-01-01 00:32:10</td>\n",
       "      <td>2023-01-01 00:40:36</td>\n",
       "      <td>1.0</td>\n",
       "      <td>0.97</td>\n",
       "      <td>1.0</td>\n",
       "      <td>N</td>\n",
       "      <td>161</td>\n",
       "      <td>141</td>\n",
       "      <td>2</td>\n",
       "      <td>9.30</td>\n",
       "      <td>1.00</td>\n",
       "      <td>0.5</td>\n",
       "      <td>0.00</td>\n",
       "      <td>0.0</td>\n",
       "      <td>1.0</td>\n",
       "      <td>14.30</td>\n",
       "      <td>2.5</td>\n",
       "      <td>0.00</td>\n",
       "    </tr>\n",
       "    <tr>\n",
       "      <th>1</th>\n",
       "      <td>2</td>\n",
       "      <td>2023-01-01 00:55:08</td>\n",
       "      <td>2023-01-01 01:01:27</td>\n",
       "      <td>1.0</td>\n",
       "      <td>1.10</td>\n",
       "      <td>1.0</td>\n",
       "      <td>N</td>\n",
       "      <td>43</td>\n",
       "      <td>237</td>\n",
       "      <td>1</td>\n",
       "      <td>7.90</td>\n",
       "      <td>1.00</td>\n",
       "      <td>0.5</td>\n",
       "      <td>4.00</td>\n",
       "      <td>0.0</td>\n",
       "      <td>1.0</td>\n",
       "      <td>16.90</td>\n",
       "      <td>2.5</td>\n",
       "      <td>0.00</td>\n",
       "    </tr>\n",
       "    <tr>\n",
       "      <th>2</th>\n",
       "      <td>2</td>\n",
       "      <td>2023-01-01 00:25:04</td>\n",
       "      <td>2023-01-01 00:37:49</td>\n",
       "      <td>1.0</td>\n",
       "      <td>2.51</td>\n",
       "      <td>1.0</td>\n",
       "      <td>N</td>\n",
       "      <td>48</td>\n",
       "      <td>238</td>\n",
       "      <td>1</td>\n",
       "      <td>14.90</td>\n",
       "      <td>1.00</td>\n",
       "      <td>0.5</td>\n",
       "      <td>15.00</td>\n",
       "      <td>0.0</td>\n",
       "      <td>1.0</td>\n",
       "      <td>34.90</td>\n",
       "      <td>2.5</td>\n",
       "      <td>0.00</td>\n",
       "    </tr>\n",
       "    <tr>\n",
       "      <th>3</th>\n",
       "      <td>1</td>\n",
       "      <td>2023-01-01 00:03:48</td>\n",
       "      <td>2023-01-01 00:13:25</td>\n",
       "      <td>0.0</td>\n",
       "      <td>1.90</td>\n",
       "      <td>1.0</td>\n",
       "      <td>N</td>\n",
       "      <td>138</td>\n",
       "      <td>7</td>\n",
       "      <td>1</td>\n",
       "      <td>12.10</td>\n",
       "      <td>7.25</td>\n",
       "      <td>0.5</td>\n",
       "      <td>0.00</td>\n",
       "      <td>0.0</td>\n",
       "      <td>1.0</td>\n",
       "      <td>20.85</td>\n",
       "      <td>0.0</td>\n",
       "      <td>1.25</td>\n",
       "    </tr>\n",
       "    <tr>\n",
       "      <th>4</th>\n",
       "      <td>2</td>\n",
       "      <td>2023-01-01 00:10:29</td>\n",
       "      <td>2023-01-01 00:21:19</td>\n",
       "      <td>1.0</td>\n",
       "      <td>1.43</td>\n",
       "      <td>1.0</td>\n",
       "      <td>N</td>\n",
       "      <td>107</td>\n",
       "      <td>79</td>\n",
       "      <td>1</td>\n",
       "      <td>11.40</td>\n",
       "      <td>1.00</td>\n",
       "      <td>0.5</td>\n",
       "      <td>3.28</td>\n",
       "      <td>0.0</td>\n",
       "      <td>1.0</td>\n",
       "      <td>19.68</td>\n",
       "      <td>2.5</td>\n",
       "      <td>0.00</td>\n",
       "    </tr>\n",
       "    <tr>\n",
       "      <th>...</th>\n",
       "      <td>...</td>\n",
       "      <td>...</td>\n",
       "      <td>...</td>\n",
       "      <td>...</td>\n",
       "      <td>...</td>\n",
       "      <td>...</td>\n",
       "      <td>...</td>\n",
       "      <td>...</td>\n",
       "      <td>...</td>\n",
       "      <td>...</td>\n",
       "      <td>...</td>\n",
       "      <td>...</td>\n",
       "      <td>...</td>\n",
       "      <td>...</td>\n",
       "      <td>...</td>\n",
       "      <td>...</td>\n",
       "      <td>...</td>\n",
       "      <td>...</td>\n",
       "      <td>...</td>\n",
       "    </tr>\n",
       "    <tr>\n",
       "      <th>3066761</th>\n",
       "      <td>2</td>\n",
       "      <td>2023-01-31 23:58:34</td>\n",
       "      <td>2023-02-01 00:12:33</td>\n",
       "      <td>NaN</td>\n",
       "      <td>3.05</td>\n",
       "      <td>NaN</td>\n",
       "      <td>None</td>\n",
       "      <td>107</td>\n",
       "      <td>48</td>\n",
       "      <td>0</td>\n",
       "      <td>15.80</td>\n",
       "      <td>0.00</td>\n",
       "      <td>0.5</td>\n",
       "      <td>3.96</td>\n",
       "      <td>0.0</td>\n",
       "      <td>1.0</td>\n",
       "      <td>23.76</td>\n",
       "      <td>NaN</td>\n",
       "      <td>NaN</td>\n",
       "    </tr>\n",
       "    <tr>\n",
       "      <th>3066762</th>\n",
       "      <td>2</td>\n",
       "      <td>2023-01-31 23:31:09</td>\n",
       "      <td>2023-01-31 23:50:36</td>\n",
       "      <td>NaN</td>\n",
       "      <td>5.80</td>\n",
       "      <td>NaN</td>\n",
       "      <td>None</td>\n",
       "      <td>112</td>\n",
       "      <td>75</td>\n",
       "      <td>0</td>\n",
       "      <td>22.43</td>\n",
       "      <td>0.00</td>\n",
       "      <td>0.5</td>\n",
       "      <td>2.64</td>\n",
       "      <td>0.0</td>\n",
       "      <td>1.0</td>\n",
       "      <td>29.07</td>\n",
       "      <td>NaN</td>\n",
       "      <td>NaN</td>\n",
       "    </tr>\n",
       "    <tr>\n",
       "      <th>3066763</th>\n",
       "      <td>2</td>\n",
       "      <td>2023-01-31 23:01:05</td>\n",
       "      <td>2023-01-31 23:25:36</td>\n",
       "      <td>NaN</td>\n",
       "      <td>4.67</td>\n",
       "      <td>NaN</td>\n",
       "      <td>None</td>\n",
       "      <td>114</td>\n",
       "      <td>239</td>\n",
       "      <td>0</td>\n",
       "      <td>17.61</td>\n",
       "      <td>0.00</td>\n",
       "      <td>0.5</td>\n",
       "      <td>5.32</td>\n",
       "      <td>0.0</td>\n",
       "      <td>1.0</td>\n",
       "      <td>26.93</td>\n",
       "      <td>NaN</td>\n",
       "      <td>NaN</td>\n",
       "    </tr>\n",
       "    <tr>\n",
       "      <th>3066764</th>\n",
       "      <td>2</td>\n",
       "      <td>2023-01-31 23:40:00</td>\n",
       "      <td>2023-01-31 23:53:00</td>\n",
       "      <td>NaN</td>\n",
       "      <td>3.15</td>\n",
       "      <td>NaN</td>\n",
       "      <td>None</td>\n",
       "      <td>230</td>\n",
       "      <td>79</td>\n",
       "      <td>0</td>\n",
       "      <td>18.15</td>\n",
       "      <td>0.00</td>\n",
       "      <td>0.5</td>\n",
       "      <td>4.43</td>\n",
       "      <td>0.0</td>\n",
       "      <td>1.0</td>\n",
       "      <td>26.58</td>\n",
       "      <td>NaN</td>\n",
       "      <td>NaN</td>\n",
       "    </tr>\n",
       "    <tr>\n",
       "      <th>3066765</th>\n",
       "      <td>2</td>\n",
       "      <td>2023-01-31 23:07:32</td>\n",
       "      <td>2023-01-31 23:21:56</td>\n",
       "      <td>NaN</td>\n",
       "      <td>2.85</td>\n",
       "      <td>NaN</td>\n",
       "      <td>None</td>\n",
       "      <td>262</td>\n",
       "      <td>143</td>\n",
       "      <td>0</td>\n",
       "      <td>15.97</td>\n",
       "      <td>0.00</td>\n",
       "      <td>0.5</td>\n",
       "      <td>2.00</td>\n",
       "      <td>0.0</td>\n",
       "      <td>1.0</td>\n",
       "      <td>21.97</td>\n",
       "      <td>NaN</td>\n",
       "      <td>NaN</td>\n",
       "    </tr>\n",
       "  </tbody>\n",
       "</table>\n",
       "<p>3066766 rows × 19 columns</p>\n",
       "</div>"
      ],
      "text/plain": [
       "         VendorID tpep_pickup_datetime tpep_dropoff_datetime  passenger_count  \\\n",
       "0               2  2023-01-01 00:32:10   2023-01-01 00:40:36              1.0   \n",
       "1               2  2023-01-01 00:55:08   2023-01-01 01:01:27              1.0   \n",
       "2               2  2023-01-01 00:25:04   2023-01-01 00:37:49              1.0   \n",
       "3               1  2023-01-01 00:03:48   2023-01-01 00:13:25              0.0   \n",
       "4               2  2023-01-01 00:10:29   2023-01-01 00:21:19              1.0   \n",
       "...           ...                  ...                   ...              ...   \n",
       "3066761         2  2023-01-31 23:58:34   2023-02-01 00:12:33              NaN   \n",
       "3066762         2  2023-01-31 23:31:09   2023-01-31 23:50:36              NaN   \n",
       "3066763         2  2023-01-31 23:01:05   2023-01-31 23:25:36              NaN   \n",
       "3066764         2  2023-01-31 23:40:00   2023-01-31 23:53:00              NaN   \n",
       "3066765         2  2023-01-31 23:07:32   2023-01-31 23:21:56              NaN   \n",
       "\n",
       "         trip_distance  RatecodeID store_and_fwd_flag  PULocationID  \\\n",
       "0                 0.97         1.0                  N           161   \n",
       "1                 1.10         1.0                  N            43   \n",
       "2                 2.51         1.0                  N            48   \n",
       "3                 1.90         1.0                  N           138   \n",
       "4                 1.43         1.0                  N           107   \n",
       "...                ...         ...                ...           ...   \n",
       "3066761           3.05         NaN               None           107   \n",
       "3066762           5.80         NaN               None           112   \n",
       "3066763           4.67         NaN               None           114   \n",
       "3066764           3.15         NaN               None           230   \n",
       "3066765           2.85         NaN               None           262   \n",
       "\n",
       "         DOLocationID  payment_type  fare_amount  extra  mta_tax  tip_amount  \\\n",
       "0                 141             2         9.30   1.00      0.5        0.00   \n",
       "1                 237             1         7.90   1.00      0.5        4.00   \n",
       "2                 238             1        14.90   1.00      0.5       15.00   \n",
       "3                   7             1        12.10   7.25      0.5        0.00   \n",
       "4                  79             1        11.40   1.00      0.5        3.28   \n",
       "...               ...           ...          ...    ...      ...         ...   \n",
       "3066761            48             0        15.80   0.00      0.5        3.96   \n",
       "3066762            75             0        22.43   0.00      0.5        2.64   \n",
       "3066763           239             0        17.61   0.00      0.5        5.32   \n",
       "3066764            79             0        18.15   0.00      0.5        4.43   \n",
       "3066765           143             0        15.97   0.00      0.5        2.00   \n",
       "\n",
       "         tolls_amount  improvement_surcharge  total_amount  \\\n",
       "0                 0.0                    1.0         14.30   \n",
       "1                 0.0                    1.0         16.90   \n",
       "2                 0.0                    1.0         34.90   \n",
       "3                 0.0                    1.0         20.85   \n",
       "4                 0.0                    1.0         19.68   \n",
       "...               ...                    ...           ...   \n",
       "3066761           0.0                    1.0         23.76   \n",
       "3066762           0.0                    1.0         29.07   \n",
       "3066763           0.0                    1.0         26.93   \n",
       "3066764           0.0                    1.0         26.58   \n",
       "3066765           0.0                    1.0         21.97   \n",
       "\n",
       "         congestion_surcharge  airport_fee  \n",
       "0                         2.5         0.00  \n",
       "1                         2.5         0.00  \n",
       "2                         2.5         0.00  \n",
       "3                         0.0         1.25  \n",
       "4                         2.5         0.00  \n",
       "...                       ...          ...  \n",
       "3066761                   NaN          NaN  \n",
       "3066762                   NaN          NaN  \n",
       "3066763                   NaN          NaN  \n",
       "3066764                   NaN          NaN  \n",
       "3066765                   NaN          NaN  \n",
       "\n",
       "[3066766 rows x 19 columns]"
      ]
     },
     "execution_count": 51,
     "metadata": {},
     "output_type": "execute_result"
    }
   ],
   "source": [
    "df_list[0]"
   ]
  },
  {
   "cell_type": "code",
   "execution_count": 5,
   "id": "3aa7f8ab",
   "metadata": {},
   "outputs": [],
   "source": [
    "train_df = df_list[0][['PULocationID', 'DOLocationID']]"
   ]
  },
  {
   "cell_type": "code",
   "execution_count": 32,
   "id": "62fe56a9",
   "metadata": {},
   "outputs": [
    {
     "data": {
      "text/plain": [
       "262"
      ]
     },
     "execution_count": 32,
     "metadata": {},
     "output_type": "execute_result"
    }
   ],
   "source": [
    "len(pd.concat([train_df['PULocationID'], train_df['DOLocationID']], axis=0).unique())"
   ]
  },
  {
   "cell_type": "code",
   "execution_count": 35,
   "id": "cca028e4",
   "metadata": {},
   "outputs": [
    {
     "name": "stdout",
     "output_type": "stream",
     "text": [
      "Requirement already satisfied: scikit-learn==1.4.2 in /home/codespace/anaconda3/lib/python3.9/site-packages (1.4.2)\n",
      "Requirement already satisfied: scipy>=1.6.0 in /home/codespace/anaconda3/lib/python3.9/site-packages (from scikit-learn==1.4.2) (1.7.3)\n",
      "Requirement already satisfied: joblib>=1.2.0 in /home/codespace/anaconda3/lib/python3.9/site-packages (from scikit-learn==1.4.2) (1.4.2)\n",
      "Requirement already satisfied: threadpoolctl>=2.0.0 in /home/codespace/anaconda3/lib/python3.9/site-packages (from scikit-learn==1.4.2) (2.2.0)\n",
      "Requirement already satisfied: numpy>=1.19.5 in /home/codespace/anaconda3/lib/python3.9/site-packages (from scikit-learn==1.4.2) (1.21.5)\n",
      "Note: you may need to restart the kernel to use updated packages.\n"
     ]
    }
   ],
   "source": [
    "%pip install scikit-learn==1.4.2"
   ]
  },
  {
   "cell_type": "code",
   "execution_count": 7,
   "id": "c9ad821e",
   "metadata": {},
   "outputs": [
    {
     "name": "stderr",
     "output_type": "stream",
     "text": [
      "/tmp/ipykernel_18153/782199142.py:3: SettingWithCopyWarning: \n",
      "A value is trying to be set on a copy of a slice from a DataFrame.\n",
      "Try using .loc[row_indexer,col_indexer] = value instead\n",
      "\n",
      "See the caveats in the documentation: https://pandas.pydata.org/pandas-docs/stable/user_guide/indexing.html#returning-a-view-versus-a-copy\n",
      "  train_df['PULocationID'] = train_df['PULocationID'].astype(str)\n",
      "/tmp/ipykernel_18153/782199142.py:4: SettingWithCopyWarning: \n",
      "A value is trying to be set on a copy of a slice from a DataFrame.\n",
      "Try using .loc[row_indexer,col_indexer] = value instead\n",
      "\n",
      "See the caveats in the documentation: https://pandas.pydata.org/pandas-docs/stable/user_guide/indexing.html#returning-a-view-versus-a-copy\n",
      "  train_df['DOLocationID'] = train_df['DOLocationID'].astype(str)\n"
     ]
    },
    {
     "name": "stdout",
     "output_type": "stream",
     "text": [
      "518\n"
     ]
    }
   ],
   "source": [
    "from sklearn.feature_extraction import DictVectorizer\n",
    "\n",
    "train_df['PULocationID'] = train_df['PULocationID'].astype(str)\n",
    "train_df['DOLocationID'] = train_df['DOLocationID'].astype(str)\n",
    "\n",
    "data_dicts = train_df.to_dict(orient='records')\n",
    "\n",
    "vectorizer = DictVectorizer(sparse=True)\n",
    "\n",
    "feature_matrix = vectorizer.fit_transform(data_dicts)\n",
    "\n",
    "dimensionality = feature_matrix.shape[1]\n",
    "\n",
    "print(dimensionality)"
   ]
  },
  {
   "cell_type": "markdown",
   "id": "1fd819c3",
   "metadata": {},
   "source": [
    "## Question 5\n",
    "Now let's use the feature matrix from the previous step to train a model.\n",
    "\n",
    "Train a plain linear regression model with default parameters\n",
    "Calculate the RMSE of the model on the training data\n",
    "What's the RMSE on train?"
   ]
  },
  {
   "cell_type": "code",
   "execution_count": 10,
   "id": "ed41932e",
   "metadata": {},
   "outputs": [],
   "source": [
    "target = sec_ride = (df_list[0][\"tpep_dropoff_datetime\"] - df_list[0][\"tpep_pickup_datetime\"]).dt.total_seconds()/60"
   ]
  },
  {
   "cell_type": "code",
   "execution_count": 12,
   "id": "097bc2ea",
   "metadata": {},
   "outputs": [
    {
     "data": {
      "text/plain": [
       "array([ 8.43333333,  6.31666667, 12.75      , ..., 24.51666667,\n",
       "       13.        , 14.4       ])"
      ]
     },
     "execution_count": 12,
     "metadata": {},
     "output_type": "execute_result"
    }
   ],
   "source": [
    "target.values"
   ]
  },
  {
   "cell_type": "code",
   "execution_count": 15,
   "id": "b1018070",
   "metadata": {},
   "outputs": [
    {
     "name": "stdout",
     "output_type": "stream",
     "text": [
      "The RMSE on the training data is: 42.00\n"
     ]
    }
   ],
   "source": [
    "from sklearn.linear_model import LinearRegression\n",
    "from sklearn.metrics import mean_squared_error\n",
    "import numpy as np\n",
    "model = LinearRegression()\n",
    "model.fit(feature_matrix, target.values)\n",
    "predictions = model.predict(feature_matrix)\n",
    "rmse = np.sqrt(mean_squared_error(target, predictions))\n",
    "print(f'The RMSE on the training data is: {rmse:.2f}')"
   ]
  },
  {
   "cell_type": "markdown",
   "id": "645d7f60",
   "metadata": {},
   "source": [
    "## Question 6\n",
    "Q6. Evaluating the model\n",
    "Now let's apply this model to the validation dataset (February 2023).\n",
    "\n",
    "What's the RMSE on validation?"
   ]
  },
  {
   "cell_type": "code",
   "execution_count": 16,
   "id": "2fe05332",
   "metadata": {},
   "outputs": [
    {
     "name": "stderr",
     "output_type": "stream",
     "text": [
      "/tmp/ipykernel_18153/2797695480.py:2: SettingWithCopyWarning: \n",
      "A value is trying to be set on a copy of a slice from a DataFrame.\n",
      "Try using .loc[row_indexer,col_indexer] = value instead\n",
      "\n",
      "See the caveats in the documentation: https://pandas.pydata.org/pandas-docs/stable/user_guide/indexing.html#returning-a-view-versus-a-copy\n",
      "  test_df['PULocationID'] = test_df['PULocationID'].astype(str)\n",
      "/tmp/ipykernel_18153/2797695480.py:3: SettingWithCopyWarning: \n",
      "A value is trying to be set on a copy of a slice from a DataFrame.\n",
      "Try using .loc[row_indexer,col_indexer] = value instead\n",
      "\n",
      "See the caveats in the documentation: https://pandas.pydata.org/pandas-docs/stable/user_guide/indexing.html#returning-a-view-versus-a-copy\n",
      "  test_df['DOLocationID'] = test_df['DOLocationID'].astype(str)\n"
     ]
    }
   ],
   "source": [
    "test_df = df_list[1][['PULocationID', 'DOLocationID']]\n",
    "test_df['PULocationID'] = test_df['PULocationID'].astype(str)\n",
    "test_df['DOLocationID'] = test_df['DOLocationID'].astype(str)\n",
    "\n",
    "data_dicts = test_df.to_dict(orient='records')\n",
    "\n",
    "test_feature_matrix = vectorizer.transform(data_dicts)"
   ]
  },
  {
   "cell_type": "code",
   "execution_count": 17,
   "id": "a78a94d7",
   "metadata": {},
   "outputs": [],
   "source": [
    "test_target = (df_list[1][\"tpep_dropoff_datetime\"] - df_list[1][\"tpep_pickup_datetime\"]).dt.total_seconds()/60"
   ]
  },
  {
   "cell_type": "code",
   "execution_count": 18,
   "id": "32709815",
   "metadata": {},
   "outputs": [
    {
     "name": "stdout",
     "output_type": "stream",
     "text": [
      "The RMSE on the test data is: 42.25\n"
     ]
    }
   ],
   "source": [
    "predictions = model.predict(test_feature_matrix)\n",
    "rmse = np.sqrt(mean_squared_error(test_target, predictions))\n",
    "print(f'The RMSE on the test data is: {rmse:.2f}')"
   ]
  }
 ],
 "metadata": {
  "kernelspec": {
   "display_name": "Python 3 (ipykernel)",
   "language": "python",
   "name": "python3"
  },
  "language_info": {
   "codemirror_mode": {
    "name": "ipython",
    "version": 3
   },
   "file_extension": ".py",
   "mimetype": "text/x-python",
   "name": "python",
   "nbconvert_exporter": "python",
   "pygments_lexer": "ipython3",
   "version": "3.9.12"
  }
 },
 "nbformat": 4,
 "nbformat_minor": 5
}
